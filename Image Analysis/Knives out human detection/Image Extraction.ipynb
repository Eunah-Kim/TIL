{
 "cells": [
  {
   "cell_type": "code",
   "execution_count": 0,
   "metadata": {
    "colab": {},
    "colab_type": "code",
    "id": "_7sU5Elh6eR6"
   },
   "outputs": [],
   "source": [
    "%matplotlib inline\n",
    "import matplotlib.pyplot as plt\n",
    "import cv2\n",
    "import os"
   ]
  },
  {
   "cell_type": "code",
   "execution_count": 0,
   "metadata": {
    "colab": {},
    "colab_type": "code",
    "id": "wBmzfHHBiXiS"
   },
   "outputs": [],
   "source": [
    "# 캐스케이드 파일 지정해서 검출기 생성하기\n",
    "cascade_file = \"haarcascade_frontface.xml\"\n",
    "cascade = cv2.CascadeClassifier(cascade_file)"
   ]
  },
  {
   "cell_type": "code",
   "execution_count": 0,
   "metadata": {
    "colab": {},
    "colab_type": "code",
    "id": "O7T_m1CgiTMJ"
   },
   "outputs": [],
   "source": [
    "path_stanfield = 'images/lakeith stanfield/'"
   ]
  },
  {
   "cell_type": "code",
   "execution_count": 1,
   "metadata": {
    "colab": {
     "base_uri": "https://localhost:8080/",
     "height": 1000
    },
    "colab_type": "code",
    "executionInfo": {
     "elapsed": 515889,
     "status": "ok",
     "timestamp": 1579068380156,
     "user": {
      "displayName": "문석호",
      "photoUrl": "https://lh5.googleusercontent.com/-S41Eymyzw50/AAAAAAAAAAI/AAAAAAAAErI/39dbJ0N5na4/s64/photo.jpg",
      "userId": "02576687641258520797"
     },
     "user_tz": -540
    },
    "id": "gxBUNbzYiTj-",
    "outputId": "9b09d1ba-c426-4389-880b-19cd4e7dfb30"
   },
   "outputs": [
    {
     "ename": "SyntaxError",
     "evalue": "invalid syntax (<ipython-input-1-750dccb89f1a>, line 27)",
     "output_type": "error",
     "traceback": [
      "\u001b[1;36m  File \u001b[1;32m\"<ipython-input-1-750dccb89f1a>\"\u001b[1;36m, line \u001b[1;32m27\u001b[0m\n\u001b[1;33m    cv2.imwrite(\"images/processed_stanfield/lakeith stanfield\"+str(i)+\".png\", roi)\u001b[0m\n\u001b[1;37m      ^\u001b[0m\n\u001b[1;31mSyntaxError\u001b[0m\u001b[1;31m:\u001b[0m invalid syntax\n"
     ]
    }
   ],
   "source": [
    "for i, img in enumerate(os.listdir(path_chris)):\n",
    "    \n",
    "    # 이미지를 읽어 들이고 그레이스케일로 변환하기\n",
    "    img = cv2.imread(\"images/lakeith stanfield/\"+img)\n",
    "    \n",
    "    try:\n",
    "        img_gray = cv2.cvtColor(img, cv2.COLOR_BGR2GRAY)\n",
    "\n",
    "        # 얼굴 인식하기\n",
    "        face_list = cascade.detectMultiScale(img_gray)\n",
    "\n",
    "        # 결과 확인하기\n",
    "        if len(face_list) == 0:\n",
    "            print(\"실패\")\n",
    "            quit()\n",
    "            \n",
    "        # 인식한 부분 표시하기\n",
    "        for (x,y,w,h) in face_list:\n",
    "            print(\"얼굴의 좌표 =\", x, y, w, h)\n",
    "            # red = (0, 0, 255)\n",
    "            # cv2.rectangle(img, (x, y), (x+w, y+h), red, thickness=10)\n",
    "            roi = img[y:y+h, x:x+w]\n",
    "        \n",
    "            # plt.imshow(cv2.cvtColor(roi, cv2.COLOR_BGR2RGB))\n",
    "            # plt.show()\n",
    "\n",
    "    cv2.imwrite(\"images/processed_stanfield/lakeith stanfield\"+str(i)+\".png\", roi)\n",
    "    print('saved')\n",
    "    #plt.imshow(cv2.cvtColor(roi, cv2.COLOR_BGR2RGB))\n",
    "    #plt.show()\n",
    "    \n",
    "    except:\n",
    "        pass\n",
    "  \n",
    "  "
   ]
  },
  {
   "cell_type": "code",
   "execution_count": null,
   "metadata": {},
   "outputs": [],
   "source": []
  }
 ],
 "metadata": {
  "colab": {
   "collapsed_sections": [],
   "name": "Image Extraction.ipynb",
   "provenance": []
  },
  "kernelspec": {
   "display_name": "Python 3",
   "language": "python",
   "name": "python3"
  },
  "language_info": {
   "codemirror_mode": {
    "name": "ipython",
    "version": 3
   },
   "file_extension": ".py",
   "mimetype": "text/x-python",
   "name": "python",
   "nbconvert_exporter": "python",
   "pygments_lexer": "ipython3",
   "version": "3.7.3"
  }
 },
 "nbformat": 4,
 "nbformat_minor": 1
}
